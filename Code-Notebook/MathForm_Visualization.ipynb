{
  "nbformat": 4,
  "nbformat_minor": 0,
  "metadata": {
    "colab": {
      "provenance": []
    },
    "kernelspec": {
      "name": "python3",
      "display_name": "Python 3"
    },
    "language_info": {
      "name": "python"
    }
  },
  "cells": [
    {
      "cell_type": "code",
      "execution_count": null,
      "metadata": {
        "colab": {
          "base_uri": "https://localhost:8080/",
          "height": 170
        },
        "id": "6rmqKdWzUJpa",
        "outputId": "3c350bc5-a715-4639-9e0f-77cf224eada3"
      },
      "outputs": [
        {
          "output_type": "display_data",
          "data": {
            "text/plain": [
              "<IPython.core.display.Math object>"
            ],
            "text/latex": "$\\displaystyle \n\\textbf{Input Layer:} \\quad \\mathbf{x} \\in \\mathbb{R}^3 = \n\\begin{bmatrix}\n\\text{latitude} \\\\\n\\text{longitude} \\\\\n\\text{distance to nearest campus}\n\\end{bmatrix}\n$"
          },
          "metadata": {}
        },
        {
          "output_type": "display_data",
          "data": {
            "text/plain": [
              "<IPython.core.display.Math object>"
            ],
            "text/latex": "$\\displaystyle \n\\textbf{Hidden Layer:} \\quad \\mathbf{h} = \\text{ReLU}(\\mathbf{W}_1 \\cdot \\mathbf{x} + \\mathbf{b}_1)\n$"
          },
          "metadata": {}
        },
        {
          "output_type": "display_data",
          "data": {
            "text/plain": [
              "<IPython.core.display.Math object>"
            ],
            "text/latex": "$\\displaystyle \n\\textbf{Output Layer:} \\quad \\hat{\\mathbf{y}} = \\mathbf{W}_2 \\cdot \\mathbf{h} + \\mathbf{b}_2\n$"
          },
          "metadata": {}
        },
        {
          "output_type": "display_data",
          "data": {
            "text/plain": [
              "<IPython.core.display.Math object>"
            ],
            "text/latex": "$\\displaystyle \n\\textbf{Loss Function:} \\quad \\mathcal{L} = -\\log\\left( \\frac{e^{\\hat{y}_k}}{\\sum_{j=1}^{5} e^{\\hat{y}_j}} \\right)\n$"
          },
          "metadata": {}
        }
      ],
      "source": [
        "from IPython.display import display, Math\n",
        "\n",
        "display(Math(r\"\"\"\n",
        "\\textbf{Input Layer:} \\quad \\mathbf{x} \\in \\mathbb{R}^3 =\n",
        "\\begin{bmatrix}\n",
        "\\text{latitude} \\\\\n",
        "\\text{longitude} \\\\\n",
        "\\text{distance to nearest campus}\n",
        "\\end{bmatrix}\n",
        "\"\"\"))\n",
        "\n",
        "display(Math(r\"\"\"\n",
        "\\textbf{Hidden Layer:} \\quad \\mathbf{h} = \\text{ReLU}(\\mathbf{W}_1 \\cdot \\mathbf{x} + \\mathbf{b}_1)\n",
        "\"\"\"))\n",
        "\n",
        "display(Math(r\"\"\"\n",
        "\\textbf{Output Layer:} \\quad \\hat{\\mathbf{y}} = \\mathbf{W}_2 \\cdot \\mathbf{h} + \\mathbf{b}_2\n",
        "\"\"\"))\n",
        "\n",
        "display(Math(r\"\"\"\n",
        "\\textbf{Loss Function:} \\quad \\mathcal{L} = -\\log\\left( \\frac{e^{\\hat{y}_k}}{\\sum_{j=1}^{5} e^{\\hat{y}_j}} \\right)\n",
        "\"\"\"))\n"
      ]
    },
    {
      "cell_type": "code",
      "source": [
        "from IPython.display import display, Math, HTML\n",
        "\n",
        "display(HTML(\"<h3>Variable Definitions</h3>\"))\n",
        "\n",
        "display(Math(r\"\"\"\n",
        "\\mathbf{x} = \\text{Input vector with 3 features: latitude, longitude, and distance to nearest CUNY campus}\n",
        "\"\"\"))\n",
        "\n",
        "display(Math(r\"\"\"\n",
        "\\mathbf{W}_1, \\mathbf{b}_1 = \\text{Weight matrix and bias for the hidden layer}\n",
        "\"\"\"))\n",
        "\n",
        "display(Math(r\"\"\"\n",
        "\\mathbf{h} = \\text{Hidden layer output after applying ReLU: } \\mathbf{h} = \\text{ReLU}(\\mathbf{W}_1 \\cdot \\mathbf{x} + \\mathbf{b}_1)\n",
        "\"\"\"))\n",
        "\n",
        "display(Math(r\"\"\"\n",
        "\\mathbf{W}_2, \\mathbf{b}_2 = \\text{Weight matrix and bias for the output layer}\n",
        "\"\"\"))\n",
        "\n",
        "display(Math(r\"\"\"\n",
        "\\hat{\\mathbf{y}} = \\text{Output logits: } \\hat{\\mathbf{y}} = \\mathbf{W}_2 \\cdot \\mathbf{h} + \\mathbf{b}_2\n",
        "\"\"\"))\n",
        "\n",
        "display(Math(r\"\"\"\n",
        "\\mathcal{L} = \\text{Cross-entropy loss: } -\\log\\left( \\frac{e^{\\hat{y}_k}}{\\sum_{j=1}^{5} e^{\\hat{y}_j}} \\right)\n",
        "\"\"\"))\n",
        "\n",
        "display(Math(r\"\"\"\n",
        "k = \\text{Index of the correct (true) class — the actual borough label}\n",
        "\"\"\"))\n"
      ],
      "metadata": {
        "colab": {
          "base_uri": "https://localhost:8080/",
          "height": 232
        },
        "id": "DeB8dFKwb4Qu",
        "outputId": "a432f967-362a-4332-e746-6b35d8423fed"
      },
      "execution_count": null,
      "outputs": [
        {
          "output_type": "display_data",
          "data": {
            "text/plain": [
              "<IPython.core.display.HTML object>"
            ],
            "text/html": [
              "<h3>Variable Definitions</h3>"
            ]
          },
          "metadata": {}
        },
        {
          "output_type": "display_data",
          "data": {
            "text/plain": [
              "<IPython.core.display.Math object>"
            ],
            "text/latex": "$\\displaystyle \n\\mathbf{x} = \\text{Input vector with 3 features: latitude, longitude, and distance to nearest CUNY campus}\n$"
          },
          "metadata": {}
        },
        {
          "output_type": "display_data",
          "data": {
            "text/plain": [
              "<IPython.core.display.Math object>"
            ],
            "text/latex": "$\\displaystyle \n\\mathbf{W}_1, \\mathbf{b}_1 = \\text{Weight matrix and bias for the hidden layer}\n$"
          },
          "metadata": {}
        },
        {
          "output_type": "display_data",
          "data": {
            "text/plain": [
              "<IPython.core.display.Math object>"
            ],
            "text/latex": "$\\displaystyle \n\\mathbf{h} = \\text{Hidden layer output after applying ReLU: } \\mathbf{h} = \\text{ReLU}(\\mathbf{W}_1 \\cdot \\mathbf{x} + \\mathbf{b}_1)\n$"
          },
          "metadata": {}
        },
        {
          "output_type": "display_data",
          "data": {
            "text/plain": [
              "<IPython.core.display.Math object>"
            ],
            "text/latex": "$\\displaystyle \n\\mathbf{W}_2, \\mathbf{b}_2 = \\text{Weight matrix and bias for the output layer}\n$"
          },
          "metadata": {}
        },
        {
          "output_type": "display_data",
          "data": {
            "text/plain": [
              "<IPython.core.display.Math object>"
            ],
            "text/latex": "$\\displaystyle \n\\hat{\\mathbf{y}} = \\text{Output logits: } \\hat{\\mathbf{y}} = \\mathbf{W}_2 \\cdot \\mathbf{h} + \\mathbf{b}_2\n$"
          },
          "metadata": {}
        },
        {
          "output_type": "display_data",
          "data": {
            "text/plain": [
              "<IPython.core.display.Math object>"
            ],
            "text/latex": "$\\displaystyle \n\\mathcal{L} = \\text{Cross-entropy loss: } -\\log\\left( \\frac{e^{\\hat{y}_k}}{\\sum_{j=1}^{5} e^{\\hat{y}_j}} \\right)\n$"
          },
          "metadata": {}
        },
        {
          "output_type": "display_data",
          "data": {
            "text/plain": [
              "<IPython.core.display.Math object>"
            ],
            "text/latex": "$\\displaystyle \nk = \\text{Index of the correct (true) class — the actual borough label}\n$"
          },
          "metadata": {}
        }
      ]
    }
  ]
}